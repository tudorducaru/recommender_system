{
 "cells": [
  {
   "cell_type": "code",
   "execution_count": 9,
   "metadata": {},
   "outputs": [],
   "source": [
    "import sqlite3\n",
    "import feedparser\n",
    "import re\n",
    "from bs4 import BeautifulSoup\n",
    "from nltk.tokenize import word_tokenize\n",
    "from nltk.corpus import stopwords\n",
    "from sklearn.feature_extraction.text import CountVectorizer\n",
    "import numpy as np\n",
    "from corextopic import corextopic as ct\n",
    "import umap, umap.plot\n",
    "\n",
    "\n",
    "count = 0\n",
    "\n",
    "# list of feed urls loaded from the db\n",
    "feed_url_list = []\n",
    "\n",
    "# dict of feeds\n",
    "# urls are keys and features (body of text) are values\n",
    "feeds = dict()\n",
    "\n",
    "# normalizes a string \n",
    "# - remove HTML tags (using BeautifulSoup)\n",
    "# - convert to lower case\n",
    "# - remove numbers\n",
    "# - remove symbols\n",
    "# - remove stop words (using NLTK)\n",
    "def normalize(text):\n",
    "\n",
    "    # remove HTML tags\n",
    "    text = BeautifulSoup(text, 'html.parser').get_text()\n",
    "\n",
    "    # convert to lower case\n",
    "    text = text.lower()\n",
    "\n",
    "    # remove numbers\n",
    "    text = re.sub(r'\\d+', '', text)\n",
    "\n",
    "    # remove symbols\n",
    "    text = text.replace('\\n', ' ')\n",
    "    text = re.sub(r'[^A-Za-z ]+', '', text)\n",
    "    text = re.sub(r' +', ' ', text)\n",
    "\n",
    "    # remove stop words\n",
    "    tokenized = word_tokenize(text)\n",
    "    text = ' '.join([word for word in tokenized if not word in stopwords.words('english')])\n",
    "\n",
    "    return text\n",
    "\n",
    "# load feeds from the db\n",
    "# specify how many feeds to load from the database\n",
    "def loadFeeds(no_feeds):\n",
    "\n",
    "    # clear feed urls list and feeds dict\n",
    "    feed_url_list.clear()\n",
    "    feeds.clear()\n",
    "\n",
    "    global count\n",
    "    count = 0\n",
    "\n",
    "    print('Loading feed urls...')\n",
    "\n",
    "    # connect to the db\n",
    "    conn = sqlite3.connect('feeds_dev.db')\n",
    "    c = conn.cursor()\n",
    "\n",
    "    # select urls \n",
    "    # add limit 100 during development\n",
    "    c.execute('SELECT url FROM feeds LIMIT ?;', (no_feeds,))\n",
    "    for entry in c.fetchall():\n",
    "        feed_url_list.append(entry[0])\n",
    "\n",
    "    print('Loaded feeds\\n')\n",
    "\n",
    "# analyze a feed and generate its initial body of text\n",
    "def parseFeed(url):\n",
    "\n",
    "    global count\n",
    "    count += 1\n",
    "    print('Generating features for ', url, ' ', str(count))\n",
    "\n",
    "    # return if the feed can not be parsed\n",
    "    try:\n",
    "        d = feedparser.parse(url)\n",
    "    except Exception:\n",
    "        print('Could not parse feed ', url)\n",
    "        return\n",
    "\n",
    "    # body of text representing the features\n",
    "    features = ''\n",
    "\n",
    "    # check that the feed has a title, description and at least one entry\n",
    "    title = d['feed'].get('title')\n",
    "    description = d['feed'].get('description')\n",
    "    entries = d['entries']\n",
    "\n",
    "    if title == None or description == None or len(entries) == 0:\n",
    "        \n",
    "        # feed is invalid\n",
    "        return\n",
    "\n",
    "    # feed is valid, continue feature extraction\n",
    "    # add title and description to body of text\n",
    "    features = title + ' ' + description\n",
    "\n",
    "    # add the title and description of each entry to the body of text\n",
    "    for entry in entries:\n",
    "        \n",
    "        entry_title = entry.get('title')\n",
    "        entry_title = entry_title if entry_title is not None else ''\n",
    "\n",
    "        entry_description = entry.get('description')\n",
    "        entry_description = entry_description if entry_description is not None else ''\n",
    "\n",
    "        features = features + ' ' + entry_title + ' ' + entry_description\n",
    "\n",
    "    # normalize the body of text\n",
    "    features = normalize(features)\n",
    "\n",
    "    # add the features to the feed's dict entry\n",
    "    feeds[url] = features\n"
   ]
  },
  {
   "cell_type": "markdown",
   "metadata": {},
   "source": [
    "# Generate Features\n",
    "Load the feeds from the database and generate a body of text for each feed. \n",
    "The body of text contains the feed's (processed) data."
   ]
  },
  {
   "cell_type": "code",
   "execution_count": null,
   "metadata": {},
   "outputs": [],
   "source": [
    "# save the features in the dict to the database\n",
    "def saveFeatures():\n",
    "\n",
    "    print('Saving features...')\n",
    "\n",
    "    # connect to the db\n",
    "    conn = sqlite3.connect('feeds_dev.db')\n",
    "    c = conn.cursor()\n",
    "\n",
    "    for url, features in feeds.items():\n",
    "        c.execute('UPDATE feeds SET text = ? WHERE url = ?;', (features, url))\n",
    "\n",
    "    # Commit and close connection\n",
    "    conn.commit()\n",
    "    conn.close()\n",
    "\n",
    "    print('Saved features')\n",
    "\n",
    "# generate features for the feeds\n",
    "# specify for how many feeds to generate the features\n",
    "def generateFeatures(no_feeds):\n",
    "\n",
    "    loadFeeds(no_feeds)\n",
    "\n",
    "    # generate features for all feeds\n",
    "    for url in feed_url_list:   \n",
    "        parseFeed(url)\n",
    "\n",
    "    print('\\nFeatures generated for ' + str(count) + ' urls\\n')\n",
    "\n",
    "    # save the features\n",
    "    saveFeatures()\n",
    "\n",
    "generateFeatures(1000)\n"
   ]
  },
  {
   "cell_type": "markdown",
   "metadata": {},
   "source": [
    "# Load Features\n",
    "Load the previously generated bodies of text for the feeds and load them into the feeds dict"
   ]
  },
  {
   "cell_type": "code",
   "execution_count": 10,
   "metadata": {},
   "outputs": [
    {
     "name": "stdout",
     "output_type": "stream",
     "text": [
      "Loading features...\n",
      "Loaded features for 871 feeds\n"
     ]
    }
   ],
   "source": [
    "def loadFeatures():\n",
    "\n",
    "    print('Loading features...')\n",
    "\n",
    "    # connect to the db\n",
    "    conn = sqlite3.connect('feeds_dev.db')\n",
    "    c = conn.cursor()\n",
    "    \n",
    "    # select only the feeds for which the body of text \n",
    "    # has already been generated\n",
    "    c.execute('SELECT url, text FROM feeds WHERE text IS NOT NULL;')\n",
    "    for entry in c.fetchall():\n",
    "        feeds[entry[0]] = entry[1]\n",
    "\n",
    "    print('Loaded features for ' + str(len(feeds)) + ' feeds')\n",
    "\n",
    "loadFeatures()"
   ]
  },
  {
   "cell_type": "markdown",
   "metadata": {},
   "source": [
    "# Vectorize Documents\n",
    "Create a doc-word matrix from the previously-generated bodies of text."
   ]
  },
  {
   "cell_type": "code",
   "execution_count": 11,
   "metadata": {},
   "outputs": [
    {
     "name": "stdout",
     "output_type": "stream",
     "text": [
      "Shape of doc-word matrix:  (871, 20000)\n",
      "Number of documents (labels):  871\n",
      "Number of words (features):  20000\n"
     ]
    }
   ],
   "source": [
    "# returns the feeds dict's values as a doc-word matrix\n",
    "def vectorizeDocuments():\n",
    "    corpus = list(feeds.values())\n",
    "    vectorizer = CountVectorizer(max_features=20000, binary=True)\n",
    "    doc_word = vectorizer.fit_transform(corpus)\n",
    "\n",
    "    # get the words (column labels)\n",
    "    words = vectorizer.get_feature_names()\n",
    "\n",
    "    return doc_word, words\n",
    "\n",
    "# create a doc-word matrix from the dicts\n",
    "doc_word, words = vectorizeDocuments()\n",
    "docs = list(feeds.keys())\n",
    "\n",
    "print('Shape of doc-word matrix: ', str(doc_word.shape))\n",
    "print('Number of documents (labels): ', str(len(docs)))\n",
    "print('Number of words (features): ', str(len(words)))"
   ]
  },
  {
   "cell_type": "markdown",
   "metadata": {},
   "source": [
    "# CorEx Topic Modelling\n",
    "Infer topics for the documents in the doc-word matrix\n"
   ]
  },
  {
   "cell_type": "code",
   "execution_count": 12,
   "metadata": {},
   "outputs": [
    {
     "data": {
      "text/plain": [
       "<corextopic.corextopic.Corex at 0x215b61450d0>"
      ]
     },
     "execution_count": 12,
     "metadata": {},
     "output_type": "execute_result"
    }
   ],
   "source": [
    "# train the CorEx topic model\n",
    "topic_model = ct.Corex(n_hidden=10, words=words, docs=docs, max_iter=200, verbose=False, seed=1)\n",
    "topic_model.fit(doc_word, words=words, docs=docs)"
   ]
  },
  {
   "cell_type": "markdown",
   "metadata": {},
   "source": [
    "## Output"
   ]
  },
  {
   "cell_type": "markdown",
   "metadata": {},
   "source": [
    "### Display all topics"
   ]
  },
  {
   "cell_type": "code",
   "execution_count": 13,
   "metadata": {},
   "outputs": [
    {
     "name": "stdout",
     "output_type": "stream",
     "text": [
      "0: looks, taken, amount, least, leave, hard, later, close, room, far\n",
      "1: let, per, anything, works, trying, eye, add, light, side, instead\n",
      "2: call, risk, said, terms, required, support, increase, deal, remain, role\n",
      "3: saturday, building, necessary, brings, named, success, service, series, stage, rolling\n",
      "4: check, give, pretty, bit, black, wait, actually, shop, couple, nice\n",
      "5: man, car, five, following, says, care, woman, company, tv, road\n",
      "6: sweet, flavour, delicious, recipe, sauce, ingredients, meal, cheese, recipes, dish\n",
      "7: easily, colours, colour, love, pieces, selection, bag, perfect, favourite, fish\n",
      "8: government, legal, law, eu, minister, policy, brexit, boris, mps, uk\n",
      "9: pattern, yarn, knitting, stitch, stitches, needle, knitters, sewing, yarns, crochet\n"
     ]
    }
   ],
   "source": [
    "topics = topic_model.get_topics()\n",
    "for n,topic in enumerate(topics):\n",
    "    topic_words,_,_ = zip(*topic)\n",
    "    print('{}: '.format(n) + ', '.join(topic_words))"
   ]
  },
  {
   "cell_type": "markdown",
   "metadata": {},
   "source": [
    "### Display Top Documents \n",
    "Given a topic, display the top documents for that topic."
   ]
  },
  {
   "cell_type": "code",
   "execution_count": 14,
   "metadata": {},
   "outputs": [
    {
     "data": {
      "text/plain": [
       "[('https://thegreenish.co.uk/travel?format=rss', 0.0),\n",
       " ('https://isleofwhithorn.blogspot.com/feeds/posts/default?alt=rss', 0.0),\n",
       " ('https://www.esteelalonde.com/journal?format=rss', 0.0),\n",
       " ('http://scottishgenealogyblog.blogspot.com/feeds/posts/default?alt=rss',\n",
       "  0.0),\n",
       " ('https://scottishboating.blogspot.com/feeds/posts/default', 0.0),\n",
       " ('https://chokkablog.blogspot.com/feeds/posts/default?alt=rss', 0.0),\n",
       " ('https://feeds.feedburner.com/globalhelpswap/PbLm', 0.0),\n",
       " ('http://feeds.feedburner.com/co/XRuB', 0.0),\n",
       " ('http://salmon-fishing-scotland.blogspot.com/feeds/posts/default?alt=rss',\n",
       "  0.0),\n",
       " ('http://mountainandseascotland.blogspot.com/feeds/posts/default?alt=rss',\n",
       "  0.0)]"
      ]
     },
     "execution_count": 14,
     "metadata": {},
     "output_type": "execute_result"
    }
   ],
   "source": [
    "topic_model.get_top_docs(topic=0, n_docs=10, sort_by='log_prob')"
   ]
  },
  {
   "cell_type": "markdown",
   "metadata": {},
   "source": [
    "### Assignments of Documents to Topics"
   ]
  },
  {
   "cell_type": "code",
   "execution_count": 15,
   "metadata": {},
   "outputs": [
    {
     "name": "stdout",
     "output_type": "stream",
     "text": [
      "(871, 10)\n",
      "(871, 10)\n",
      "[False False False False  True  True False False False  True]\n"
     ]
    }
   ],
   "source": [
    "# Estimation of the probability that a document belongs to a topic\n",
    "print(topic_model.p_y_given_x.shape)\n",
    "\n",
    "# Determine which document belongs to which topic\n",
    "print(topic_model.labels.shape)\n",
    "print(topic_model.labels[0])"
   ]
  },
  {
   "cell_type": "markdown",
   "metadata": {},
   "source": [
    "# UMAP Plot"
   ]
  },
  {
   "cell_type": "code",
   "execution_count": 41,
   "metadata": {},
   "outputs": [
    {
     "name": "stderr",
     "output_type": "stream",
     "text": [
      "*c* argument looks like a single numeric RGB or RGBA sequence, which should be avoided as value-mapping will have precedence in case its length matches with *x* & *y*.  Please use the *color* keyword-argument or provide a 2D array with a single row if you intend to specify the same RGB or RGBA value for all points.\n"
     ]
    },
    {
     "data": {
      "text/plain": [
       "<AxesSubplot:>"
      ]
     },
     "execution_count": 41,
     "metadata": {},
     "output_type": "execute_result"
    },
    {
     "data": {
      "image/png": "[encoded data removed]",
      "text/plain": [
       "<Figure size 800x800 with 1 Axes>"
      ]
     },
     "metadata": {},
     "output_type": "display_data"
    }
   ],
   "source": [
    "mapper = umap.UMAP().fit(topic_model.p_y_given_x)\n",
    "umap.plot.points(mapper)"
   ]
  }
 ],
 "metadata": {
  "interpreter": {
   "hash": "c7eabe99ffc3d30b494d114e08fa0ce97bc43ac1aba15f2047c4ea25116d822e"
  },
  "kernelspec": {
   "display_name": "Python 3.8.5 64-bit",
   "language": "python",
   "name": "python3"
  },
  "language_info": {
   "codemirror_mode": {
    "name": "ipython",
    "version": 3
   },
   "file_extension": ".py",
   "mimetype": "text/x-python",
   "name": "python",
   "nbconvert_exporter": "python",
   "pygments_lexer": "ipython3",
   "version": "3.8.5"
  },
  "orig_nbformat": 4
 },
 "nbformat": 4,
 "nbformat_minor": 2
}
